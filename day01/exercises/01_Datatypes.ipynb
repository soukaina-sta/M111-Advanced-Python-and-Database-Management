{
 "cells": [
  {
   "cell_type": "markdown",
   "metadata": {},
   "source": [
    "# Datatypes exercises"
   ]
  },
  {
   "cell_type": "markdown",
   "metadata": {},
   "source": [
    "## Exercise 1"
   ]
  },
  {
   "cell_type": "markdown",
   "metadata": {},
   "source": [
    "Write the following mathematical formula in Python:\n",
    "\n",
    "\\begin{align}\n",
    " result = 6a^3 - \\frac{8b^2 }{4c} + 11\n",
    "\\end{align}\n",
    "\n",
    "```python\n",
    "a = 2\n",
    "b = 3\n",
    "c = 2\n",
    "```\n",
    "\n",
    "> write your formula as \n",
    "```python\n",
    "result = \n",
    "```\n",
    "\n",
    "It must verify\n",
    "```python\n",
    ">>> assert result == 50"
   ]
  },
  {
   "cell_type": "code",
   "execution_count": 1,
   "metadata": {},
   "outputs": [
    {
     "data": {
      "text/plain": [
       "50.0"
      ]
     },
     "execution_count": 1,
     "metadata": {},
     "output_type": "execute_result"
    }
   ],
   "source": [
    "a=2\n",
    "b=3\n",
    "c=2\n",
    "result = 6*pow(a,3)-8*pow(b,2)/(4*c)+11\n",
    "result"
   ]
  },
  {
   "cell_type": "markdown",
   "metadata": {},
   "source": [
    "## Exercise 2"
   ]
  },
  {
   "cell_type": "code",
   "execution_count": null,
   "metadata": {},
   "outputs": [],
   "source": [
    "assert (0.1 + 0.2 == 0.3)# will cause assertion error\n",
    "# because this operation with floats in not true since 0.1 + 0.2 is not equal to 0.3 in python as we see below"
   ]
  },
  {
   "cell_type": "code",
   "execution_count": 3,
   "metadata": {},
   "outputs": [
    {
     "data": {
      "text/plain": [
       "False"
      ]
     },
     "execution_count": 3,
     "metadata": {},
     "output_type": "execute_result"
    }
   ],
   "source": [
    "0.1 + 0.2 == 0.3"
   ]
  },
  {
   "cell_type": "markdown",
   "metadata": {},
   "source": [
    "## Exercise 3"
   ]
  },
  {
   "cell_type": "code",
   "execution_count": 4,
   "metadata": {},
   "outputs": [
    {
     "name": "stdout",
     "output_type": "stream",
     "text": [
      "29\n"
     ]
    }
   ],
   "source": [
    "#Code Here\n",
    "liste=[10,20,-1]\n",
    "# we can use the function sum or the code below\n",
    "print(sum(liste))\n",
    "# or this program*\n",
    "def somme_liste(liste):\n",
    "    somme = 0\n",
    "    for ele in liste:\n",
    "        somme = somme + ele\n",
    "somme_liste(liste)\n",
    "#assert sum_list([10, 20, -1]) == 29"
   ]
  },
  {
   "cell_type": "markdown",
   "metadata": {},
   "source": [
    "Write a Python program to sum all the items in a list"
   ]
  },
  {
   "cell_type": "markdown",
   "metadata": {},
   "source": [
    "## Exercise 4"
   ]
  },
  {
   "cell_type": "markdown",
   "metadata": {},
   "source": [
    "Write a program that asks how long it took to run 10 km today. The program continues to ask how long (in minutes) it took for additional runs, until the user enters q. At that point, the program exits — but only after calculating and displaying the average time that the 10 km run took.  \n",
    "\n",
    "\n",
    "Example:\n",
    "```\n",
    "Enter 10 km run time: 15\n",
    "Enter 10 km run time: 20\n",
    "Enter 10 km run time: 10\n",
    "Enter 10 km run time: q\n",
    "\n",
    "Average of 15.0, over 3 runs\n",
    "```"
   ]
  },
  {
   "cell_type": "code",
   "execution_count": 6,
   "metadata": {},
   "outputs": [
    {
     "name": "stdin",
     "output_type": "stream",
     "text": [
      "Enter 10 km run time :  15\n",
      "Enter 10 km run time :  20\n",
      "Enter 10 km run time :  10\n",
      "Enter 10 km run time :  q\n"
     ]
    },
    {
     "name": "stdout",
     "output_type": "stream",
     "text": [
      "Average of  15.0 over 3 runs\n"
     ]
    }
   ],
   "source": [
    "import numpy as np\n",
    "liste =[]\n",
    "while True:\n",
    "    enter = input(\"Enter 10 km run time : \")\n",
    "    if enter == \"q\":\n",
    "        break\n",
    "    liste.append(int(enter))\n",
    "print(\"Average of \",np.mean(liste),\"over\",len(liste),\"runs\")"
   ]
  },
  {
   "cell_type": "markdown",
   "metadata": {},
   "source": [
    "## Exercise 5"
   ]
  },
  {
   "cell_type": "markdown",
   "metadata": {},
   "source": [
    "Write a function that takes a string and returns the sorted string."
   ]
  },
  {
   "cell_type": "code",
   "execution_count": 7,
   "metadata": {},
   "outputs": [
    {
     "name": "stdout",
     "output_type": "stream",
     "text": [
      "abc\n"
     ]
    }
   ],
   "source": [
    "def sort_string(s):\n",
    "    str = ''.join(sorted(s))\n",
    "    return str\n",
    "print(sort_string(\"cab\"))\n",
    "assert sort_string(\"cab\") == \"abc\""
   ]
  },
  {
   "cell_type": "markdown",
   "metadata": {},
   "source": [
    "## Exercise 6"
   ]
  },
  {
   "cell_type": "markdown",
   "metadata": {},
   "source": [
    "Write a function that take a string of multiple words and returns the position of the word with most repeated letters"
   ]
  },
  {
   "cell_type": "code",
   "execution_count": 22,
   "metadata": {},
   "outputs": [
    {
     "data": {
      "text/plain": [
       "3"
      ]
     },
     "execution_count": 22,
     "metadata": {},
     "output_type": "execute_result"
    }
   ],
   "source": [
    "def count_string(s):\n",
    "    d = {}\n",
    "    for letter in s:\n",
    "        if letter in d:\n",
    "            d[letter]+=1\n",
    "        else :\n",
    "            d[letter]=1\n",
    "    return d\n",
    "def wwmrl(s):\n",
    "    d={}\n",
    "    values = []\n",
    "    for word in s:\n",
    "        counter = count_string(word)\n",
    "        d.update({word : max(counter.values())})\n",
    "    max_v = max(d , key = d.get)\n",
    "#print(max_v)\n",
    "    return s.index(max_v)\n",
    "wwmrl(['this','is','an','elementary','example'])"
   ]
  },
  {
   "cell_type": "markdown",
   "metadata": {},
   "source": [
    "## Exercise 7"
   ]
  },
  {
   "cell_type": "markdown",
   "metadata": {},
   "source": [
    "1. Create a tuple\n",
    "2. Unpack the tuple in multiple variables"
   ]
  },
  {
   "cell_type": "code",
   "execution_count": 8,
   "metadata": {},
   "outputs": [
    {
     "name": "stdout",
     "output_type": "stream",
     "text": [
      "Tuple:  (2, 11, 'SOUKAINA')\n",
      "x:  2\n",
      "y:  11\n",
      "z:  SOUKAINA\n"
     ]
    }
   ],
   "source": [
    "#Create a tuple \n",
    "t= 2,11,\"SOUKAINA\"\n",
    "print('Tuple: ', t)\n",
    "#\n",
    "(x, y, z) =  t\n",
    "print('x: ', x)\n",
    "print('y: ', y)\n",
    "print('z: ', z)\n"
   ]
  },
  {
   "cell_type": "markdown",
   "metadata": {},
   "source": [
    "## Exercise 8"
   ]
  },
  {
   "cell_type": "markdown",
   "metadata": {},
   "source": [
    "Write a Python program to sort a tuple by its float element.  \n",
    "Sample data: `[('item1', '12.20'), ('item2', '15.10'), ('item3', '24.5')]`  \n",
    "Expected Output: `[('item3', '24.5'), ('item2', '15.10'), ('item1', '12.20')]`"
   ]
  },
  {
   "cell_type": "code",
   "execution_count": 9,
   "metadata": {},
   "outputs": [
    {
     "name": "stdout",
     "output_type": "stream",
     "text": [
      "[('item3', '24.5'), ('item2', '15.10'), ('item1', '12.20')]\n"
     ]
    }
   ],
   "source": [
    "#return the max element, using x[1] as the key.\n",
    "VAR = [('item1', '12.20'), ('item2', '15.10'), ('item3', '24.5')]\n",
    "print( sorted(VAR, key=lambda x: float(x[1]), reverse=True))"
   ]
  },
  {
   "cell_type": "markdown",
   "metadata": {},
   "source": [
    "## Exercise 9"
   ]
  },
  {
   "cell_type": "markdown",
   "metadata": {},
   "source": [
    "Write a Python script to concatenate dictionaries to create a new one."
   ]
  },
  {
   "cell_type": "code",
   "execution_count": 10,
   "metadata": {},
   "outputs": [
    {
     "name": "stdout",
     "output_type": "stream",
     "text": [
      "Concatenated dictionary is :  {1: 10, 2: 20, 3: 30, 4: 40, 5: 50, 6: 60}\n"
     ]
    }
   ],
   "source": [
    "dic1={1:10, 2:20}\n",
    "dic2={3:30, 4:40}\n",
    "dic3={5:50,6:60}\n",
    "dictionnaire ={}\n",
    "for d in (dic1 ,dic2,dic3) :\n",
    "    dictionnaire.update(d)\n",
    "print(\"Concatenated dictionary is : \" ,dictionnaire)"
   ]
  },
  {
   "cell_type": "markdown",
   "metadata": {},
   "source": [
    "## Exercise 10"
   ]
  },
  {
   "cell_type": "markdown",
   "metadata": {},
   "source": [
    "Write a Python program to combine two dictionary adding values for common keys."
   ]
  },
  {
   "cell_type": "code",
   "execution_count": 11,
   "metadata": {},
   "outputs": [
    {
     "name": "stdout",
     "output_type": "stream",
     "text": [
      "Counter({'a': 400, 'b': 400, 'd': 400, 'c': 300})\n"
     ]
    }
   ],
   "source": [
    "from collections import Counter\n",
    "d1 = {'a': 100, 'b': 200, 'c':300}\n",
    "d2 = {'a': 300, 'b': 200, 'd':400}\n",
    "d = Counter(d1) + Counter(d2)\n",
    "print(d)"
   ]
  },
  {
   "cell_type": "markdown",
   "metadata": {},
   "source": [
    "## Exercise 11"
   ]
  },
  {
   "cell_type": "markdown",
   "metadata": {},
   "source": [
    "Write a Python program to extract values from a given dictionaries and create a list of lists from those values.\n",
    "\n",
    "Original Dictionary:  \n",
    "`[{'student_id': 1, 'name': 'Jean Castro', 'class': 'V'}, {'student_id': 2, 'name': 'Lula Powell', 'class': 'V'}, {'student_id': 3, 'name': 'Brian Howell', 'class': 'VI'}, {'student_id': 4, 'name': 'Lynne Foster', 'class': 'VI'}, {'student_id': 5, 'name': 'Zachary Simon', 'class': 'VII'}]`  \n",
    "Output:  \n",
    "`[[1, 'Jean Castro', 'V'], [2, 'Lula Powell', 'V'], [3, 'Brian Howell', 'VI'], [4, 'Lynne Foster', 'VI'], [5, 'Zachary Simon', 'VII']]`"
   ]
  },
  {
   "cell_type": "code",
   "execution_count": 20,
   "metadata": {},
   "outputs": [
    {
     "name": "stdout",
     "output_type": "stream",
     "text": [
      "[[1, 'Jean Castro', 'V'], [2, 'Lula Powell', 'V'], [3, 'Brian Howell', 'VI'], [4, 'Lynne Foster', 'VI'], [5, 'Zachary Simon', 'VII']]\n"
     ]
    }
   ],
   "source": [
    "\n",
    "data = [{'student_id': 1, 'name': 'Jean Castro', 'class': 'V'}, \n",
    "        {'student_id': 2, 'name': 'Lula Powell', 'class': 'V'},\n",
    "        {'student_id': 3, 'name': 'Brian Howell', 'class': 'VI'},\n",
    "        {'student_id': 4, 'name': 'Lynne Foster', 'class': 'VI'},\n",
    "        {'student_id': 5, 'name': 'Zachary Simon', 'class': 'VII'}]\n",
    "LISTE=[]\n",
    "for d in data :\n",
    "    LISTE.append(list(d.values()))\n",
    "print(LISTE)\n"
   ]
  }
 ],
 "metadata": {
  "kernelspec": {
   "display_name": "Python 3 (ipykernel)",
   "language": "python",
   "name": "python3"
  },
  "language_info": {
   "codemirror_mode": {
    "name": "ipython",
    "version": 3
   },
   "file_extension": ".py",
   "mimetype": "text/x-python",
   "name": "python",
   "nbconvert_exporter": "python",
   "pygments_lexer": "ipython3",
   "version": "3.7.4"
  },
  "vscode": {
   "interpreter": {
    "hash": "916dbcbb3f70747c44a77c7bcd40155683ae19c65e1c03b4aa3499c5328201f1"
   }
  }
 },
 "nbformat": 4,
 "nbformat_minor": 4
}
